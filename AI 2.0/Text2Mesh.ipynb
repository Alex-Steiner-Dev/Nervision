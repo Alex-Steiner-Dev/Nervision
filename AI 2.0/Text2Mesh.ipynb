{
  "nbformat": 4,
  "nbformat_minor": 0,
  "metadata": {
    "colab": {
      "provenance": []
    },
    "kernelspec": {
      "name": "python3",
      "display_name": "Python 3"
    },
    "language_info": {
      "name": "python"
    }
  },
  "cells": [
    {
      "cell_type": "markdown",
      "source": [
        "**Install Libraries**"
      ],
      "metadata": {
        "id": "Ol64Es-qHiKd"
      }
    },
    {
      "cell_type": "code",
      "source": [
        "!pip install git+https://github.com/openai/CLIP.git\n",
        "!pip install open3d==0.10.0"
      ],
      "metadata": {
        "id": "eKLLEHmyCX44"
      },
      "execution_count": null,
      "outputs": []
    },
    {
      "cell_type": "code",
      "source": [
        "!pip install ipdb"
      ],
      "metadata": {
        "id": "1s-iaBI8SICA"
      },
      "execution_count": null,
      "outputs": []
    },
    {
      "cell_type": "code",
      "source": [
        "!git clone https://github.com/Gorilla-Lab-SCUT/tango.git"
      ],
      "metadata": {
        "id": "BcisVu8-LhBz"
      },
      "execution_count": null,
      "outputs": []
    },
    {
      "cell_type": "code",
      "source": [
        "%cd tango/"
      ],
      "metadata": {
        "id": "DRuuIIIVLjI9"
      },
      "execution_count": null,
      "outputs": []
    },
    {
      "cell_type": "code",
      "source": [
        "!chmod +x demo/run_shoe_gold.sh  \n",
        "!./demo/run_shoe_gold.sh  "
      ],
      "metadata": {
        "id": "AVbOyVKWLlCm",
        "colab": {
          "base_uri": "https://localhost:8080/"
        },
        "outputId": "bc689247-6f7e-46cd-953c-79d46b14e273"
      },
      "execution_count": 6,
      "outputs": [
        {
          "output_type": "stream",
          "name": "stdout",
          "text": [
            "Number of Light SG:  64\n",
            "Number of BRDF SG:  1\n",
            "Using white light!\n",
            "init envmap energy:  [6.2831855]\n",
            "\u001b[1;33m[Open3D WARNING] Read OBJ failed: Material file [ data/source_meshes/./shoe.obj.mtl ] not found.\n",
            "Failed to load material file(s). Use default material.\n",
            "\u001b[0;m\n",
            "Traceback (most recent call last):\n",
            "  File \"main.py\", line 235, in <module>\n",
            "    train(args)\n",
            "  File \"main.py\", line 108, in train\n",
            "    mesh = get_normalize_mesh(args.obj_path)\n",
            "  File \"main.py\", line 22, in get_normalize_mesh\n",
            "    mesh.vertices = o3d.cuda.pybind.utility.Vector3dVector(vertices)\n",
            "AttributeError: module 'open3d.open3d_pybind.cuda' has no attribute 'pybind'\n"
          ]
        }
      ]
    }
  ]
}